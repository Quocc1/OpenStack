{
 "cells": [
  {
   "cell_type": "code",
   "execution_count": 12,
   "id": "76fbb6eb-cb46-4674-ad79-000d91ecba27",
   "metadata": {},
   "outputs": [],
   "source": [
    "import pandas as pd\n",
    "from pyspark.sql.functions import col, to_timestamp"
   ]
  },
  {
   "cell_type": "code",
   "execution_count": 66,
   "id": "c983e3bb-16b1-4e32-835c-0177c29b661d",
   "metadata": {},
   "outputs": [
    {
     "name": "stdout",
     "output_type": "stream",
     "text": [
      "+---+----------+------------+---------+----+---------+-------+--------+-------------+--------------------+---------+----------+-----------------+---------+-------------+------------+--------------+-----+-----+--------------------+--------------------+----+---------------+\n",
      "| id|account_id|account_name|    ad_id|area|area_name|area_v2|category|category_name|               image| latitude| longitude|         location|  list_id|    list_time|       price|   region_name|rooms| size|         street_name|             subject|type|      ward_name|\n",
      "+---+----------+------------+---------+----+---------+-------+--------+-------------+--------------------+---------+----------+-----------------+---------+-------------+------------+--------------+-----+-----+--------------------+--------------------+----+---------------+\n",
      "|  0|  25617600|         Bon|148725292|  96|   Quận 1|  13096|    1020|        Nhà ở|https://cdn.choto...|10.773300|106.700300| 10.7733,106.7003|108832494|1714788004214|128000000000|Tp Hồ Chí Minh|    3|32.00|Đường Trần Khắc Chân|Bán nhà hẽm ôtô 9...|   s|Phường Tân Định|\n",
      "|  1|  12197730|    Thanh Mỹ|151686180|  96|   Quận 1|  13096|    1020|        Nhà ở|https://cdn.choto...|10.793200|106.691170|10.7932,106.69117|111367540|1714787910000|  7100000000|Tp Hồ Chí Minh|    3|32.00|      Trần Khắc Chân|Bán Nhà Hẻm Xe Hơ...|   s|Phường Tân Định|\n",
      "| 10|  26859429|Nguyễn Thành|157060976|  96|   Quận 1|  13096|    1020|        Nhà ở|https://cdn.choto...|10.760500|106.695400| 10.7605,106.6954|115983515|1714785623001|  1300000000|Tp Hồ Chí Minh|    1|10.00|   Đường Võ Văn Kiệt|HÀNG HIẾM 👉👉 CH...|   s|Phường Cô Giang|\n",
      "|101|   3294620|          Bi|156786431|  98|   Quận 3|  13098|    1020|        Nhà ở|https://cdn.choto...|10.789200|106.678100| 10.7892,106.6781|115748693|1714787633000|  7499999999|Tp Hồ Chí Minh|   11|61.00|     Trần Quang Diệu|Bán gấp 113/ Trần...|   s|      Phường 14|\n",
      "|102|  26699349|   Hạnh Trần|156156600|  98|   Quận 3|  13098|    1020|        Nhà ở|https://cdn.choto...|10.786100|106.680900| 10.7861,106.6809|115225399|1714787290505|  2900000000|Tp Hồ Chí Minh|    2|64.00|     Đường Lê Văn Sỹ|         BÁN NHÀ HẺM|   s|      Phường 14|\n",
      "+---+----------+------------+---------+----+---------+-------+--------+-------------+--------------------+---------+----------+-----------------+---------+-------------+------------+--------------+-----+-----+--------------------+--------------------+----+---------------+\n",
      "only showing top 5 rows\n",
      "\n"
     ]
    }
   ],
   "source": [
    "df = spark.sql(\"select * from warehouse.bronze.bronze_raw_data\")\n",
    "df.show(5)"
   ]
  },
  {
   "cell_type": "code",
   "execution_count": 67,
   "id": "142b4dbc-8840-4684-bfac-1dce74e6ed31",
   "metadata": {},
   "outputs": [
    {
     "name": "stdout",
     "output_type": "stream",
     "text": [
      "+----------+---------+----+---------+--------+-------------+---------+----------+-----------------+-------------------+------------+--------------+-----+-----+----+----+-----+-------+--------------------+\n",
      "|account_id|    ad_id|area|area_name|category|category_name| latitude| longitude|         location|               date|       price|   region_name|rooms| size|type|year|month|quarter|       price_per_sqm|\n",
      "+----------+---------+----+---------+--------+-------------+---------+----------+-----------------+-------------------+------------+--------------+-----+-----+----+----+-----+-------+--------------------+\n",
      "|  25617600|148725292|  96|   Quận 1|    1020|        Nhà ở|10.773300|106.700300| 10.7733,106.7003|2024-05-04 02:00:04|128000000000|Tp Hồ Chí Minh|    3|32.00|   s|2024|    5|      2|4000000000.000000...|\n",
      "|  12197730|151686180|  96|   Quận 1|    1020|        Nhà ở|10.793200|106.691170|10.7932,106.69117|2024-05-04 01:58:30|  7100000000|Tp Hồ Chí Minh|    3|32.00|   s|2024|    5|      2|221875000.0000000...|\n",
      "|  26859429|157060976|  96|   Quận 1|    1020|        Nhà ở|10.760500|106.695400| 10.7605,106.6954|2024-05-04 01:20:23|  1300000000|Tp Hồ Chí Minh|    1|10.00|   s|2024|    5|      2|130000000.0000000...|\n",
      "|   3294620|156786431|  98|   Quận 3|    1020|        Nhà ở|10.789200|106.678100| 10.7892,106.6781|2024-05-04 01:53:53|  7499999999|Tp Hồ Chí Minh|   11|61.00|   s|2024|    5|      2|122950819.6557377...|\n",
      "|  26699349|156156600|  98|   Quận 3|    1020|        Nhà ở|10.786100|106.680900| 10.7861,106.6809|2024-05-04 01:48:10|  2900000000|Tp Hồ Chí Minh|    2|64.00|   s|2024|    5|      2|45312500.00000000000|\n",
      "+----------+---------+----+---------+--------+-------------+---------+----------+-----------------+-------------------+------------+--------------+-----+-----+----+----+-----+-------+--------------------+\n",
      "only showing top 5 rows\n",
      "\n"
     ]
    }
   ],
   "source": [
    "df = spark.sql(\"select * from warehouse.silver.silver_refined_data\")\n",
    "df.show(5)"
   ]
  },
  {
   "cell_type": "code",
   "execution_count": 45,
   "id": "4f1f017a-faf8-4ed2-8f93-4c423193958f",
   "metadata": {},
   "outputs": [
    {
     "name": "stdout",
     "output_type": "stream",
     "text": [
      "root\n",
      " |-- account_id: integer (nullable = true)\n",
      " |-- ad_id: integer (nullable = true)\n",
      " |-- area: string (nullable = true)\n",
      " |-- area_name: string (nullable = true)\n",
      " |-- category: string (nullable = true)\n",
      " |-- category_name: string (nullable = true)\n",
      " |-- latitude: decimal(10,6) (nullable = true)\n",
      " |-- longitude: decimal(10,6) (nullable = true)\n",
      " |-- location: string (nullable = true)\n",
      " |-- date: timestamp (nullable = true)\n",
      " |-- price: decimal(10,2) (nullable = true)\n",
      " |-- region_name: string (nullable = true)\n",
      " |-- rooms: integer (nullable = true)\n",
      " |-- size: decimal(10,2) (nullable = true)\n",
      " |-- type: string (nullable = true)\n",
      " |-- year: integer (nullable = true)\n",
      " |-- month: integer (nullable = true)\n",
      " |-- quarter: integer (nullable = true)\n",
      " |-- price_per_sqm: decimal(23,13) (nullable = true)\n",
      "\n"
     ]
    }
   ],
   "source": [
    "df.printSchema()"
   ]
  },
  {
   "cell_type": "code",
   "execution_count": 39,
   "id": "a631f851-d63b-43df-ab6b-e03a250f7fee",
   "metadata": {},
   "outputs": [
    {
     "name": "stdout",
     "output_type": "stream",
     "text": [
      "Null values in each column:\n",
      "id                 0\n",
      "account_id         0\n",
      "account_name       0\n",
      "ad_id              0\n",
      "area               0\n",
      "area_name          0\n",
      "area_v2            0\n",
      "category           0\n",
      "category_name      0\n",
      "image              0\n",
      "latitude           0\n",
      "longitude          0\n",
      "location           0\n",
      "list_id            0\n",
      "list_time          0\n",
      "price            476\n",
      "region_name        0\n",
      "rooms              0\n",
      "size               0\n",
      "street_name        0\n",
      "subject            0\n",
      "type               0\n",
      "ward_name          0\n",
      "dtype: int64\n"
     ]
    }
   ],
   "source": [
    "null_values = data.isnull().sum()\n",
    "\n",
    "print(\"Null values in each column:\")\n",
    "print(null_values)"
   ]
  },
  {
   "cell_type": "code",
   "execution_count": 40,
   "id": "1885472d-5740-4c16-a56a-a67009d4140f",
   "metadata": {},
   "outputs": [
    {
     "name": "stdout",
     "output_type": "stream",
     "text": [
      "root\n",
      " |-- _c0: integer (nullable = true)\n",
      " |-- account_id: integer (nullable = true)\n",
      " |-- account_name: string (nullable = true)\n",
      " |-- ad_id: integer (nullable = true)\n",
      " |-- area: integer (nullable = true)\n",
      " |-- area_name: string (nullable = true)\n",
      " |-- area_v2: integer (nullable = true)\n",
      " |-- category: integer (nullable = true)\n",
      " |-- category_name: string (nullable = true)\n",
      " |-- image: string (nullable = true)\n",
      " |-- latitude: double (nullable = true)\n",
      " |-- longitude: double (nullable = true)\n",
      " |-- location: string (nullable = true)\n",
      " |-- list_id: integer (nullable = true)\n",
      " |-- list_time: double (nullable = true)\n",
      " |-- price: double (nullable = true)\n",
      " |-- region_name: string (nullable = true)\n",
      " |-- rooms: double (nullable = true)\n",
      " |-- size: double (nullable = true)\n",
      " |-- street_name: string (nullable = true)\n",
      " |-- subject: string (nullable = true)\n",
      " |-- type: string (nullable = true)\n",
      " |-- ward_name: string (nullable = true)\n",
      "\n"
     ]
    }
   ],
   "source": [
    "df = spark.read \\\n",
    "    .option(\"header\", \"true\") \\\n",
    "    .option(\"inferSchema\", \"true\") \\\n",
    "    .csv(\"/var/lib/app/stage/houses.csv\")\n",
    "\n",
    "# Show the inferred schema\n",
    "df.printSchema()"
   ]
  },
  {
   "cell_type": "code",
   "execution_count": null,
   "id": "088cf2c9-5236-4dc6-ac55-914cb62c1b73",
   "metadata": {},
   "outputs": [],
   "source": []
  }
 ],
 "metadata": {
  "kernelspec": {
   "display_name": "Python 3 (ipykernel)",
   "language": "python",
   "name": "python3"
  },
  "language_info": {
   "codemirror_mode": {
    "name": "ipython",
    "version": 3
   },
   "file_extension": ".py",
   "mimetype": "text/x-python",
   "name": "python",
   "nbconvert_exporter": "python",
   "pygments_lexer": "ipython3",
   "version": "3.11.9"
  }
 },
 "nbformat": 4,
 "nbformat_minor": 5
}
